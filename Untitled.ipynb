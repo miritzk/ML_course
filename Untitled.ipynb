{
 "cells": [
  {
   "cell_type": "code",
   "execution_count": 16,
   "metadata": {},
   "outputs": [],
   "source": [
    "import numpy as np\n",
    "import pandas as pd\n",
    "import seaborn as sb\n",
    "import sklearn as skl\n",
    "import matplotlib.pyplot as plt\n",
    "import statistics as st"
   ]
  },
  {
   "cell_type": "code",
   "execution_count": 12,
   "metadata": {},
   "outputs": [
    {
     "data": {
      "text/html": [
       "<div>\n",
       "<style scoped>\n",
       "    .dataframe tbody tr th:only-of-type {\n",
       "        vertical-align: middle;\n",
       "    }\n",
       "\n",
       "    .dataframe tbody tr th {\n",
       "        vertical-align: top;\n",
       "    }\n",
       "\n",
       "    .dataframe thead th {\n",
       "        text-align: right;\n",
       "    }\n",
       "</style>\n",
       "<table border=\"1\" class=\"dataframe\">\n",
       "  <thead>\n",
       "    <tr style=\"text-align: right;\">\n",
       "      <th></th>\n",
       "      <th>enrollee_id</th>\n",
       "      <th>city</th>\n",
       "      <th>city_development_index</th>\n",
       "      <th>gender</th>\n",
       "      <th>relevent_experience</th>\n",
       "      <th>enrolled_university</th>\n",
       "      <th>education_level</th>\n",
       "      <th>major_discipline</th>\n",
       "      <th>experience</th>\n",
       "      <th>company_size</th>\n",
       "      <th>company_type</th>\n",
       "      <th>last_new_job</th>\n",
       "      <th>training_hours</th>\n",
       "      <th>target</th>\n",
       "    </tr>\n",
       "  </thead>\n",
       "  <tbody>\n",
       "    <tr>\n",
       "      <th>0</th>\n",
       "      <td>13163</td>\n",
       "      <td>city_16</td>\n",
       "      <td>0.910</td>\n",
       "      <td>NaN</td>\n",
       "      <td>No relevent experience</td>\n",
       "      <td>no_enrollment</td>\n",
       "      <td>High School</td>\n",
       "      <td>NaN</td>\n",
       "      <td>2</td>\n",
       "      <td>NaN</td>\n",
       "      <td>NaN</td>\n",
       "      <td>never</td>\n",
       "      <td>16</td>\n",
       "      <td>1</td>\n",
       "    </tr>\n",
       "    <tr>\n",
       "      <th>1</th>\n",
       "      <td>9357</td>\n",
       "      <td>city_136</td>\n",
       "      <td>0.897</td>\n",
       "      <td>Male</td>\n",
       "      <td>Has relevent experience</td>\n",
       "      <td>no_enrollment</td>\n",
       "      <td>Masters</td>\n",
       "      <td>STEM</td>\n",
       "      <td>6</td>\n",
       "      <td>1000-4999</td>\n",
       "      <td>Pvt Ltd</td>\n",
       "      <td>1</td>\n",
       "      <td>262</td>\n",
       "      <td>0</td>\n",
       "    </tr>\n",
       "    <tr>\n",
       "      <th>2</th>\n",
       "      <td>604</td>\n",
       "      <td>city_16</td>\n",
       "      <td>0.910</td>\n",
       "      <td>Male</td>\n",
       "      <td>No relevent experience</td>\n",
       "      <td>NaN</td>\n",
       "      <td>NaN</td>\n",
       "      <td>NaN</td>\n",
       "      <td>3</td>\n",
       "      <td>NaN</td>\n",
       "      <td>NaN</td>\n",
       "      <td>never</td>\n",
       "      <td>24</td>\n",
       "      <td>0</td>\n",
       "    </tr>\n",
       "    <tr>\n",
       "      <th>3</th>\n",
       "      <td>19033</td>\n",
       "      <td>city_16</td>\n",
       "      <td>0.910</td>\n",
       "      <td>Male</td>\n",
       "      <td>No relevent experience</td>\n",
       "      <td>no_enrollment</td>\n",
       "      <td>High School</td>\n",
       "      <td>NaN</td>\n",
       "      <td>3</td>\n",
       "      <td>NaN</td>\n",
       "      <td>NaN</td>\n",
       "      <td>1</td>\n",
       "      <td>35</td>\n",
       "      <td>0</td>\n",
       "    </tr>\n",
       "    <tr>\n",
       "      <th>4</th>\n",
       "      <td>4825</td>\n",
       "      <td>city_145</td>\n",
       "      <td>0.555</td>\n",
       "      <td>Male</td>\n",
       "      <td>Has relevent experience</td>\n",
       "      <td>Full time course</td>\n",
       "      <td>Graduate</td>\n",
       "      <td>STEM</td>\n",
       "      <td>4</td>\n",
       "      <td>NaN</td>\n",
       "      <td>NaN</td>\n",
       "      <td>1</td>\n",
       "      <td>43</td>\n",
       "      <td>1</td>\n",
       "    </tr>\n",
       "  </tbody>\n",
       "</table>\n",
       "</div>"
      ],
      "text/plain": [
       "   enrollee_id      city  city_development_index gender  \\\n",
       "0        13163   city_16                   0.910    NaN   \n",
       "1         9357  city_136                   0.897   Male   \n",
       "2          604   city_16                   0.910   Male   \n",
       "3        19033   city_16                   0.910   Male   \n",
       "4         4825  city_145                   0.555   Male   \n",
       "\n",
       "       relevent_experience enrolled_university education_level  \\\n",
       "0   No relevent experience       no_enrollment     High School   \n",
       "1  Has relevent experience       no_enrollment         Masters   \n",
       "2   No relevent experience                 NaN             NaN   \n",
       "3   No relevent experience       no_enrollment     High School   \n",
       "4  Has relevent experience    Full time course        Graduate   \n",
       "\n",
       "  major_discipline experience company_size company_type last_new_job  \\\n",
       "0              NaN          2          NaN          NaN        never   \n",
       "1             STEM          6    1000-4999      Pvt Ltd            1   \n",
       "2              NaN          3          NaN          NaN        never   \n",
       "3              NaN          3          NaN          NaN            1   \n",
       "4             STEM          4          NaN          NaN            1   \n",
       "\n",
       "   training_hours  target  \n",
       "0              16       1  \n",
       "1             262       0  \n",
       "2              24       0  \n",
       "3              35       0  \n",
       "4              43       1  "
      ]
     },
     "execution_count": 12,
     "metadata": {},
     "output_type": "execute_result"
    }
   ],
   "source": [
    "train = pd.read_excel('XY_train.xlsx')\n",
    "train.head()"
   ]
  },
  {
   "cell_type": "markdown",
   "metadata": {},
   "source": [
    "### city"
   ]
  },
  {
   "cell_type": "code",
   "execution_count": 6,
   "metadata": {
    "scrolled": true
   },
   "outputs": [
    {
     "data": {
      "text/plain": [
       "city_103    3455\n",
       "city_21     2123\n",
       "city_16     1242\n",
       "city_114    1089\n",
       "city_160     663\n",
       "city_136     473\n",
       "city_67      347\n",
       "city_75      245\n",
       "city_102     243\n",
       "city_104     235\n",
       "city_73      225\n",
       "city_100     218\n",
       "city_71      216\n",
       "city_11      202\n",
       "city_90      168\n",
       "city_61      161\n",
       "city_28      150\n",
       "city_23      148\n",
       "city_65      134\n",
       "city_36      124\n",
       "city_173     123\n",
       "city_50      113\n",
       "city_83      110\n",
       "city_162     106\n",
       "city_46      104\n",
       "city_116     101\n",
       "city_19       98\n",
       "city_45       97\n",
       "city_138      92\n",
       "city_149      87\n",
       "            ... \n",
       "city_48       11\n",
       "city_59       10\n",
       "city_39        9\n",
       "city_131       9\n",
       "city_127       9\n",
       "city_43        9\n",
       "city_106       8\n",
       "city_133       8\n",
       "city_109       7\n",
       "city_146       7\n",
       "city_81        6\n",
       "city_2         6\n",
       "city_167       6\n",
       "city_79        5\n",
       "city_120       5\n",
       "city_179       5\n",
       "city_180       5\n",
       "city_166       4\n",
       "city_139       4\n",
       "city_62        4\n",
       "city_31        4\n",
       "city_107       4\n",
       "city_8         4\n",
       "city_18        3\n",
       "city_25        3\n",
       "city_82        3\n",
       "city_129       3\n",
       "city_111       3\n",
       "city_121       2\n",
       "city_171       1\n",
       "Name: city, Length: 122, dtype: int64"
      ]
     },
     "execution_count": 6,
     "metadata": {},
     "output_type": "execute_result"
    }
   ],
   "source": [
    "# 122 cities\n",
    "train['city'].value_counts()"
   ]
  },
  {
   "cell_type": "markdown",
   "metadata": {},
   "source": [
    "### city_development_index"
   ]
  },
  {
   "cell_type": "code",
   "execution_count": 10,
   "metadata": {
    "collapsed": true
   },
   "outputs": [
    {
     "data": {
      "text/plain": [
       "0.920    4118\n",
       "0.624    2123\n",
       "0.910    1242\n",
       "0.926    1089\n",
       "0.698     564\n",
       "0.897     473\n",
       "0.939     395\n",
       "0.855     347\n",
       "0.804     243\n",
       "0.924     235\n",
       "0.754     225\n",
       "0.887     218\n",
       "0.884     216\n",
       "0.550     202\n",
       "0.913     161\n",
       "0.899     148\n",
       "0.925     139\n",
       "0.802     134\n",
       "0.893     124\n",
       "0.878     123\n",
       "0.743     113\n",
       "0.827     113\n",
       "0.896     113\n",
       "0.923     110\n",
       "0.579     107\n",
       "0.767     106\n",
       "0.762     104\n",
       "0.682      98\n",
       "0.890      97\n",
       "0.836      92\n",
       "         ... \n",
       "0.725      15\n",
       "0.448      15\n",
       "0.739      13\n",
       "0.640      13\n",
       "0.556      11\n",
       "0.493      11\n",
       "0.563      11\n",
       "0.775      10\n",
       "0.680       9\n",
       "0.745       9\n",
       "0.898       9\n",
       "0.516       9\n",
       "0.742       8\n",
       "0.701       7\n",
       "0.735       7\n",
       "0.730       6\n",
       "0.788       6\n",
       "0.921       6\n",
       "0.780       5\n",
       "0.512       5\n",
       "0.487       4\n",
       "0.807       4\n",
       "0.518       4\n",
       "0.649       4\n",
       "0.645       4\n",
       "0.693       3\n",
       "0.824       3\n",
       "0.625       3\n",
       "0.781       2\n",
       "0.664       1\n",
       "Name: city_development_index, Length: 93, dtype: int64"
      ]
     },
     "execution_count": 10,
     "metadata": {},
     "output_type": "execute_result"
    }
   ],
   "source": [
    "# 0.448 - 0.949\n",
    "train['city_development_index'].min()\n",
    "train['city_development_index'].max()\n",
    "train['city_development_index'].value_counts()"
   ]
  },
  {
   "cell_type": "code",
   "execution_count": 27,
   "metadata": {},
   "outputs": [
    {
     "data": {
      "image/png": "[encoded data removed]",
      "text/plain": [
       "<Figure size 432x288 with 1 Axes>"
      ]
     },
     "metadata": {
      "needs_background": "light"
     },
     "output_type": "display_data"
    }
   ],
   "source": [
    "plt.hist(train['city_development_index'], bins=10, color='darkblue')\n",
    "plt.title(\"City Development Index Histogram\", fontsize=20)\n",
    "plt.xlabel('city development index', fontsize=15)\n",
    "plt.ylabel('num people', fontsize=15)\n",
    "# plt.grid()\n",
    "plt.show()"
   ]
  },
  {
   "cell_type": "markdown",
   "metadata": {},
   "source": [
    "### gender"
   ]
  },
  {
   "cell_type": "code",
   "execution_count": 55,
   "metadata": {},
   "outputs": [
    {
     "data": {
      "text/plain": [
       "Male      10550\n",
       "NaN        3639\n",
       "Female      987\n",
       "Other       150\n",
       "Name: gender, dtype: int64"
      ]
     },
     "execution_count": 55,
     "metadata": {},
     "output_type": "execute_result"
    }
   ],
   "source": [
    "gender_dist = train['gender'].value_counts(dropna=False)\n",
    "gender_dist"
   ]
  },
  {
   "cell_type": "code",
   "execution_count": 56,
   "metadata": {},
   "outputs": [
    {
     "data": {
      "image/png": "[encoded data removed]",
      "text/plain": [
       "<Figure size 432x288 with 1 Axes>"
      ]
     },
     "metadata": {},
     "output_type": "display_data"
    }
   ],
   "source": [
    "plt.pie(gender_dist, labels=['Male','NaN','Female','Other'], autopct='%1.1f%%')\n",
    "# plt.legend()\n",
    "plt.show()"
   ]
  },
  {
   "cell_type": "markdown",
   "metadata": {},
   "source": [
    "### relevent_experience"
   ]
  },
  {
   "cell_type": "code",
   "execution_count": 41,
   "metadata": {},
   "outputs": [
    {
     "data": {
      "text/plain": [
       "Has relevent experience    11064\n",
       "No relevent experience      4262\n",
       "Name: relevent_experience, dtype: int64"
      ]
     },
     "execution_count": 41,
     "metadata": {},
     "output_type": "execute_result"
    }
   ],
   "source": [
    "relevent_experience_dist = train['relevent_experience'].value_counts(dropna=False)\n",
    "relevent_experience_dist"
   ]
  },
  {
   "cell_type": "code",
   "execution_count": 43,
   "metadata": {},
   "outputs": [
    {
     "data": {
      "image/png": "[encoded data removed]",
      "text/plain": [
       "<Figure size 432x288 with 1 Axes>"
      ]
     },
     "metadata": {},
     "output_type": "display_data"
    }
   ],
   "source": [
    "plt.pie(relevent_experience_dist, labels=['Has relevent experience','No relevent experience'], autopct='%1.1f%%')\n",
    "plt.show()"
   ]
  },
  {
   "cell_type": "markdown",
   "metadata": {},
   "source": [
    "### enrolled_university"
   ]
  },
  {
   "cell_type": "code",
   "execution_count": 45,
   "metadata": {},
   "outputs": [
    {
     "data": {
      "text/plain": [
       "no_enrollment       11036\n",
       "Full time course     3026\n",
       "Part time course      953\n",
       "NaN                   311\n",
       "Name: enrolled_university, dtype: int64"
      ]
     },
     "execution_count": 45,
     "metadata": {},
     "output_type": "execute_result"
    }
   ],
   "source": [
    "train['enrolled_university'].value_counts(dropna=False)"
   ]
  },
  {
   "cell_type": "markdown",
   "metadata": {},
   "source": [
    "### education_level"
   ]
  },
  {
   "cell_type": "code",
   "execution_count": 46,
   "metadata": {},
   "outputs": [
    {
     "data": {
      "text/plain": [
       "Graduate          9305\n",
       "Masters           3484\n",
       "High School       1590\n",
       "NaN                370\n",
       "Phd                323\n",
       "Primary School     254\n",
       "Name: education_level, dtype: int64"
      ]
     },
     "execution_count": 46,
     "metadata": {},
     "output_type": "execute_result"
    }
   ],
   "source": [
    "train['education_level'].value_counts(dropna=False)"
   ]
  },
  {
   "cell_type": "markdown",
   "metadata": {},
   "source": [
    "### major_discipline"
   ]
  },
  {
   "cell_type": "code",
   "execution_count": 47,
   "metadata": {},
   "outputs": [
    {
     "data": {
      "text/plain": [
       "STEM               11612\n",
       "NaN                 2237\n",
       "Humanities           527\n",
       "Other                295\n",
       "Business Degree      273\n",
       "Arts                 204\n",
       "No Major             178\n",
       "Name: major_discipline, dtype: int64"
      ]
     },
     "execution_count": 47,
     "metadata": {},
     "output_type": "execute_result"
    }
   ],
   "source": [
    "train['major_discipline'].value_counts(dropna=False)"
   ]
  },
  {
   "cell_type": "markdown",
   "metadata": {},
   "source": [
    "### experience"
   ]
  },
  {
   "cell_type": "code",
   "execution_count": 48,
   "metadata": {},
   "outputs": [
    {
     "data": {
      "text/plain": [
       ">20    2620\n",
       "5      1161\n",
       "4      1097\n",
       "3      1084\n",
       "6       979\n",
       "2       889\n",
       "7       825\n",
       "9       804\n",
       "10      789\n",
       "8       636\n",
       "15      572\n",
       "11      525\n",
       "14      478\n",
       "1       435\n",
       "<1      406\n",
       "16      403\n",
       "12      393\n",
       "13      313\n",
       "17      282\n",
       "19      249\n",
       "18      223\n",
       "20      115\n",
       "NaN      48\n",
       "Name: experience, dtype: int64"
      ]
     },
     "execution_count": 48,
     "metadata": {},
     "output_type": "execute_result"
    }
   ],
   "source": [
    "train['experience'].value_counts(dropna=False)"
   ]
  },
  {
   "cell_type": "markdown",
   "metadata": {},
   "source": [
    "### company_size"
   ]
  },
  {
   "cell_type": "code",
   "execution_count": 49,
   "metadata": {},
   "outputs": [
    {
     "data": {
      "text/plain": [
       "NaN                    4779\n",
       "50-99                  2459\n",
       "100-500                2053\n",
       "10000+                 1613\n",
       "1949-10-01 00:00:00    1142\n",
       "1000-4999              1074\n",
       "<10                    1045\n",
       "500-999                 700\n",
       "5000-9999               461\n",
       "Name: company_size, dtype: int64"
      ]
     },
     "execution_count": 49,
     "metadata": {},
     "output_type": "execute_result"
    }
   ],
   "source": [
    "train['company_size'].value_counts(dropna=False)"
   ]
  },
  {
   "cell_type": "markdown",
   "metadata": {},
   "source": [
    "### company_type"
   ]
  },
  {
   "cell_type": "code",
   "execution_count": 50,
   "metadata": {},
   "outputs": [
    {
     "data": {
      "text/plain": [
       "Pvt Ltd                7868\n",
       "NaN                    4943\n",
       "Funded Startup          779\n",
       "Public Sector           750\n",
       "Early Stage Startup     494\n",
       "NGO                     392\n",
       "Other                   100\n",
       "Name: company_type, dtype: int64"
      ]
     },
     "execution_count": 50,
     "metadata": {},
     "output_type": "execute_result"
    }
   ],
   "source": [
    "train['company_type'].value_counts(dropna=False)"
   ]
  },
  {
   "cell_type": "markdown",
   "metadata": {},
   "source": [
    "### last_new_job"
   ]
  },
  {
   "cell_type": "code",
   "execution_count": 51,
   "metadata": {},
   "outputs": [
    {
     "data": {
      "text/plain": [
       "1        6487\n",
       ">4       2612\n",
       "2        2303\n",
       "never    1960\n",
       "4         824\n",
       "3         808\n",
       "NaN       332\n",
       "Name: last_new_job, dtype: int64"
      ]
     },
     "execution_count": 51,
     "metadata": {},
     "output_type": "execute_result"
    }
   ],
   "source": [
    "train['last_new_job'].value_counts(dropna=False)"
   ]
  },
  {
   "cell_type": "markdown",
   "metadata": {},
   "source": [
    "### training_hours"
   ]
  },
  {
   "cell_type": "code",
   "execution_count": 52,
   "metadata": {
    "scrolled": false
   },
   "outputs": [
    {
     "data": {
      "text/plain": [
       "28     269\n",
       "18     232\n",
       "12     232\n",
       "22     228\n",
       "24     226\n",
       "50     222\n",
       "17     218\n",
       "6      216\n",
       "20     212\n",
       "34     202\n",
       "14     201\n",
       "26     200\n",
       "10     198\n",
       "11     198\n",
       "21     197\n",
       "48     197\n",
       "23     197\n",
       "9      196\n",
       "56     195\n",
       "8      186\n",
       "42     186\n",
       "15     185\n",
       "46     183\n",
       "4      173\n",
       "32     168\n",
       "44     167\n",
       "36     166\n",
       "25     166\n",
       "7      161\n",
       "43     160\n",
       "      ... \n",
       "320      9\n",
       "262      9\n",
       "278      9\n",
       "254      8\n",
       "336      8\n",
       "1        8\n",
       "310      8\n",
       "260      8\n",
       "268      8\n",
       "284      8\n",
       "306      8\n",
       "290      7\n",
       "282      7\n",
       "324      7\n",
       "302      7\n",
       "288      7\n",
       "228      7\n",
       "312      7\n",
       "280      6\n",
       "276      6\n",
       "244      6\n",
       "294      6\n",
       "266      5\n",
       "236      5\n",
       "240      5\n",
       "270      5\n",
       "234      4\n",
       "238      4\n",
       "272      4\n",
       "286      3\n",
       "Name: training_hours, Length: 241, dtype: int64"
      ]
     },
     "execution_count": 52,
     "metadata": {},
     "output_type": "execute_result"
    }
   ],
   "source": [
    "train['training_hours'].value_counts(dropna=False)"
   ]
  },
  {
   "cell_type": "markdown",
   "metadata": {},
   "source": [
    "### target (0-not looking, 1-looking)"
   ]
  },
  {
   "cell_type": "code",
   "execution_count": 53,
   "metadata": {},
   "outputs": [
    {
     "data": {
      "text/plain": [
       "0    11501\n",
       "1     3825\n",
       "Name: target, dtype: int64"
      ]
     },
     "execution_count": 53,
     "metadata": {},
     "output_type": "execute_result"
    }
   ],
   "source": [
    "train['target'].value_counts(dropna=False)"
   ]
  },
  {
   "cell_type": "code",
   "execution_count": null,
   "metadata": {},
   "outputs": [],
   "source": []
  },
  {
   "cell_type": "code",
   "execution_count": null,
   "metadata": {},
   "outputs": [],
   "source": []
  }
 ],
 "metadata": {
  "kernelspec": {
   "display_name": "Python 3",
   "language": "python",
   "name": "python3"
  },
  "language_info": {
   "codemirror_mode": {
    "name": "ipython",
    "version": 3
   },
   "file_extension": ".py",
   "mimetype": "text/x-python",
   "name": "python",
   "nbconvert_exporter": "python",
   "pygments_lexer": "ipython3",
   "version": "3.7.3"
  }
 },
 "nbformat": 4,
 "nbformat_minor": 2
}
